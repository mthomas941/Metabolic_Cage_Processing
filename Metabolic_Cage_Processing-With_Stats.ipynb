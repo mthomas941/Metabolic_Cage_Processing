{
 "cells": [
  {
   "cell_type": "code",
   "execution_count": 1,
   "metadata": {},
   "outputs": [],
   "source": [
    "import numpy as np\n",
    "import pandas as pd\n",
    "import scipy.stats as stats\n",
    "import datetime\n",
    "\n",
    "# from matplotlib import pyplot as plt\n",
    "# import seaborn as sns\n",
    "# %matplotlib inline"
   ]
  },
  {
   "cell_type": "code",
   "execution_count": 7,
   "metadata": {},
   "outputs": [
    {
     "name": "stdin",
     "output_type": "stream",
     "text": [
      "File_1 Name:  Chow Cohort- Ghrelin pt. 1.csv\n",
      "File_2 Name:  Chow Cohort- Ghrelin pt. 2.csv\n"
     ]
    }
   ],
   "source": [
    "#Read in files and put into dataframe\n",
    "file_1 = pd.read_csv(str(input('File_1 Name: ')), skiprows=12, encoding='latin1') #Chow Cohort- Ghrelin pt. 1.csv\n",
    "file_2 = pd.read_csv(str(input('File_2 Name: ')), skiprows=12, encoding='latin1') #Chow Cohort- Ghrelin pt. 2.csv\n",
    "\n",
    "#Store and drop first row containing measurement units\n",
    "measurement_units_dict = dict(zip(\n",
    "    file_1.drop(['Date Time', 'Animal No.', 'Box', 'Unnamed: 25'], axis=1).fillna('[RER]').columns, \n",
    "    file_1.drop(['Date Time', 'Animal No.', 'Box', 'Unnamed: 25'], axis=1).fillna('[RER]').iloc[0].values)\n",
    "                             )\n",
    "file_1 = file_1.drop(index=0)\n",
    "file_1.drop('Unnamed: 25', axis=1, inplace=True)\n",
    "file_1 = file_1.reset_index(drop=True)\n",
    "file_2 = file_2.drop(index=0)\n",
    "file_2.drop('Unnamed: 25', axis=1, inplace=True)\n",
    "file_2 = file_2.reset_index(drop=True)\n",
    "\n",
    "#Convert Date Time to datetime and other columns to numeric (RER won't convert if an animal is missing...will convert later)\n",
    "file_1 = file_1.apply(pd.to_numeric, errors='ignore')\n",
    "file_1['Date Time'] = file_1['Date Time'].apply(pd.to_datetime)\n",
    "\n",
    "file_2 = file_2.apply(pd.to_numeric, errors='ignore')\n",
    "file_2['Date Time'] = file_2['Date Time'].apply(pd.to_datetime)"
   ]
  },
  {
   "cell_type": "code",
   "execution_count": 8,
   "metadata": {},
   "outputs": [],
   "source": [
    "# Create new columns for date/hour/minute and then drop the earlier starting df rows until start hour is the same\n",
    "file_1['date'] = file_1['Date Time'].dt.date\n",
    "file_1['hour'] = file_1['Date Time'].dt.hour\n",
    "file_1['minute'] = file_1['Date Time'].dt.minute\n",
    "\n",
    "file_2['date'] = file_2['Date Time'].dt.date\n",
    "file_2['hour'] = file_2['Date Time'].dt.hour\n",
    "file_2['minute'] = file_2['Date Time'].dt.minute\n",
    "\n",
    "# Drop the first time point for each animal until the HOURS are equal\n",
    "time_start_file_1_hour = np.arange(0, len(file_1['hour']), (len(file_1['hour'])/8), dtype=int)\n",
    "time_start_file_2_hour = np.arange(0, len(file_2['hour']), (len(file_2['hour'])/8), dtype=int)\n",
    "\n",
    "while int(abs(file_2['hour'].iloc[0] - file_1['hour'].iloc[0])) != 0:\n",
    "    time_start_file_1_hour = np.arange(0, len(file_1['hour']), (len(file_1['hour'])/8))\n",
    "    time_start_file_2_hour = np.arange(0, len(file_2['hour']), (len(file_2['hour'])/8))\n",
    "    file_1 = file_1.drop(index=time_start_file_1_hour)\n",
    "    file_1 = file_1.reset_index(drop=True)\n",
    "        \n",
    "# Drop the first time point for each animal until the MINUTES are <30 min (readings every 27 min)\n",
    "time_start_file_1_minute = np.arange(0, len(file_1['minute']), (len(file_1['minute'])/8), dtype=int)\n",
    "time_start_file_2_minute = np.arange(0, len(file_2['minute']), (len(file_2['minute'])/8), dtype=int)\n",
    "\n",
    "while int(abs(file_2['minute'].iloc[0] - file_1['minute'].iloc[0])) > 30:\n",
    "    time_start_file_1_minute = np.arange(0, len(file_1['minute']), (len(file_1['minute'])/8))\n",
    "    time_start_file_2_minute = np.arange(0, len(file_2['minute']), (len(file_2['minute'])/8))\n",
    "    file_1 = file_1.drop(index=time_start_file_1_minute)\n",
    "    file_1 = file_1.reset_index(drop=True)\n",
    "    \n",
    "# Reduces number of time points for each animal in longer df to match animal value_counts in shorter df\n",
    "time_matched_df = pd.DataFrame()\n",
    "if len(file_2) > len(file_1):\n",
    "    for i in file_2['Animal No.'].unique():\n",
    "        time_matched_df = time_matched_df.append(file_2[file_2['Animal No.'] == i].iloc[:np.int(len(file_1)/8)])\n",
    "        time_matched_df = time_matched_df.reset_index(drop=True)\n",
    "    file_2 = time_matched_df\n",
    "\n",
    "if len(file_2) < len(file_1):\n",
    "    for i in file_1['Animal No.'].unique():\n",
    "        time_matched_df = time_matched_df.append(file_1[file_1['Animal No.'] == i].iloc[:np.int(len(file_2)/8)])\n",
    "        time_matched_df = time_matched_df.reset_index(drop=True)\n",
    "    file_1 = time_matched_df"
   ]
  },
  {
   "cell_type": "code",
   "execution_count": 9,
   "metadata": {},
   "outputs": [],
   "source": [
    "#Make Date Time for both files the same and concat files into single dataframe\n",
    "file_2['Date Time'] = file_1['Date Time']\n",
    "df = pd.concat([file_1, file_2]).reset_index(drop=True)"
   ]
  },
  {
   "cell_type": "code",
   "execution_count": 10,
   "metadata": {},
   "outputs": [
    {
     "name": "stdin",
     "output_type": "stream",
     "text": [
      "Group_1 Animals (#, #, #...):  76, 481, 478, 487, 484, 491, 493\n",
      "Group_2 Animals (#, #, #...):  480, 477, 479, 482, 483, 489, 486\n",
      "Group_1 Genotype:  cre\n",
      "Group_1 Genotype:  WT\n"
     ]
    }
   ],
   "source": [
    "#Create lists for Cre+ and WT animal numbers (or any two groups)\n",
    "group_1_list = input('Group_1 Animals (#, #, #...): ') #476, 481, 478, 487, 484, 491, 493\n",
    "group_1_list = [int(s) for s in group_1_list.split(', ') if s.isdigit()]\n",
    "\n",
    "group_2_list = input('Group_2 Animals (#, #, #...): ') #480, 477, 479, 482, 483, 489, 486\n",
    "group_2_list = [int(s) for s in group_2_list.split(', ') if s.isdigit()]\n",
    "\n",
    "#Create genotype identifiers for each group\n",
    "group_1_genotype = input('Group_1 Genotype: ') #cre\n",
    "group_2_genotype = input('Group_1 Genotype: ') #WT"
   ]
  },
  {
   "cell_type": "code",
   "execution_count": 11,
   "metadata": {},
   "outputs": [],
   "source": [
    "#Create dict of animal id's and genotye to map\n",
    "genotype_map_dict = dict(zip(group_1_list, [group_1_genotype for i in group_1_list]))\n",
    "genotype_map_dict.update(dict(zip(group_2_list, [group_2_genotype for i in group_2_list])))\n",
    "\n",
    "#Create new column for genotype and map each genotype according to animal id and corresponding group\n",
    "df['Genotype'] = df['Animal No.'].map(genotype_map_dict)\n",
    "\n",
    "#Drop any rows not containing an animal and convert RER to numeric\n",
    "df = df.dropna().reset_index(drop=True)\n",
    "df = df.apply(pd.to_numeric, errors='ignore')\n",
    "df['Date Time'] = df['Date Time'].apply(pd.to_datetime)"
   ]
  },
  {
   "cell_type": "code",
   "execution_count": 12,
   "metadata": {},
   "outputs": [],
   "source": [
    "#Drop unimportant columns and create .csv of combined, processed file\n",
    "df = df.drop(columns=['date', 'hour', 'minute'])\n",
    "#combined_processed_file = str(input('Output File Name (*.csv): '))\n",
    "#df.to_csv(path_or_buf=combined_processed_file)"
   ]
  },
  {
   "cell_type": "code",
   "execution_count": 13,
   "metadata": {},
   "outputs": [],
   "source": [
    "# plt.hist(df[df['Genotype'] == group_1_genotype]['RER'], color='r', alpha=0.5, bins=30, label=group_1_genotype)\n",
    "# plt.hist(df[df['Genotype'] == group_2_genotype]['RER'], color='g', alpha=0.5, bins=30, label=group_2_genotype)\n",
    "# plt.legend(loc='upper right')\n",
    "# plt.title('RER')\n",
    "# plt.ylabel(measurement_units_dict['RER'])\n",
    "# plt.show()"
   ]
  },
  {
   "cell_type": "code",
   "execution_count": 14,
   "metadata": {},
   "outputs": [],
   "source": [
    "# STATISTICS\n",
    "# https://pythonfordatascience.org/anova-2-way-n-way/\n",
    "# https://www.marsja.se/repeated-measures-anova-in-python-using-statsmodels/\n",
    "# https://www.marsja.se/two-way-anova-repeated-measures-using-python/\n",
    "# http://www.statsmodels.org/stable/mixed_linear.html\n",
    "# import researchpy as rp\n",
    "import statsmodels\n",
    "import statsmodels.api as sm\n",
    "import statsmodels.formula.api as smf"
   ]
  },
  {
   "cell_type": "code",
   "execution_count": 35,
   "metadata": {},
   "outputs": [],
   "source": [
    "# Create column with Date Time point number as integer\n",
    "time_num_dict = dict(zip(df['Date Time'].astype('object').unique(), range(0, np.array(len(df['Date Time'].unique())))))\n",
    "df['time_num'] = df['Date Time'].map(time_num_dict)\n",
    "df['animal'] = df['Animal No.']"
   ]
  },
  {
   "cell_type": "code",
   "execution_count": 36,
   "metadata": {},
   "outputs": [
    {
     "data": {
      "text/plain": [
       "Index(['Temp', 'O2', 'CO2', 'dO2', 'dCO2', 'VO2_1', 'VO2_2', 'VO2_3', 'VCO2_1',\n",
       "       'VCO2_2', 'VCO2_3', 'RER', 'H_1', 'H_2', 'H_3', 'MVMT_CTS', 'Feed',\n",
       "       'Weight'],\n",
       "      dtype='object')"
      ]
     },
     "execution_count": 36,
     "metadata": {},
     "output_type": "execute_result"
    }
   ],
   "source": [
    "# Rename columns so they're easier to work with in statsmodels\n",
    "df = df.rename({'VO2(1)': 'VO2_1', 'VO2(2)': 'VO2_2', 'VO2(3)': 'VO2_3',\n",
    "               'VCO2(1)': 'VCO2_1', 'VCO2(2)': 'VCO2_2', 'VCO2(3)': 'VCO2_3',\n",
    "               'H(1)': 'H_1', 'H(2)': 'H_2', 'H(3)': 'H_3', 'XT+YT': 'MVMT_CTS'}, axis=1)\n",
    "df.columns[7:-3]"
   ]
  },
  {
   "cell_type": "code",
   "execution_count": 46,
   "metadata": {},
   "outputs": [
    {
     "name": "stderr",
     "output_type": "stream",
     "text": [
      "C:\\Users\\micha\\Anaconda3\\lib\\site-packages\\statsmodels\\regression\\mixed_linear_model.py:2045: ConvergenceWarning: The MLE may be on the boundary of the parameter space.\n",
      "  warnings.warn(msg, ConvergenceWarning)\n",
      "C:\\Users\\micha\\Anaconda3\\lib\\site-packages\\statsmodels\\regression\\mixed_linear_model.py:2045: ConvergenceWarning: The MLE may be on the boundary of the parameter space.\n",
      "  warnings.warn(msg, ConvergenceWarning)\n",
      "C:\\Users\\micha\\Anaconda3\\lib\\site-packages\\statsmodels\\regression\\mixed_linear_model.py:2045: ConvergenceWarning: The MLE may be on the boundary of the parameter space.\n",
      "  warnings.warn(msg, ConvergenceWarning)\n",
      "C:\\Users\\micha\\Anaconda3\\lib\\site-packages\\statsmodels\\regression\\mixed_linear_model.py:2045: ConvergenceWarning: The MLE may be on the boundary of the parameter space.\n",
      "  warnings.warn(msg, ConvergenceWarning)\n",
      "C:\\Users\\micha\\Anaconda3\\lib\\site-packages\\statsmodels\\regression\\mixed_linear_model.py:2045: ConvergenceWarning: The MLE may be on the boundary of the parameter space.\n",
      "  warnings.warn(msg, ConvergenceWarning)\n",
      "C:\\Users\\micha\\Anaconda3\\lib\\site-packages\\statsmodels\\regression\\mixed_linear_model.py:2045: ConvergenceWarning: The MLE may be on the boundary of the parameter space.\n",
      "  warnings.warn(msg, ConvergenceWarning)\n"
     ]
    }
   ],
   "source": [
    "# Create dict to store p-values for each column\n",
    "measurement_pvalue_dict = dict()\n",
    "for i in df.columns[7:-3]:\n",
    "    mixed_lm = smf.mixedlm(f\"{str(i)} ~ time_num + Genotype\", df, groups=df[\"animal\"])\n",
    "    mixed_lm_fit = mixed_lm.fit()\n",
    "    mixed_lm_multitest = statsmodels.stats.multitest.multipletests(mixed_lm_fit.pvalues)\n",
    "\t\n",
    "\t# Update dict to include any significant measurements and associated P-value\n",
    "    measurement_pvalue_dict[i] = str(mixed_lm_multitest[1][1])\n",
    "\t\n",
    "# Holm-Sidak adjusted P-value\n",
    "hs_adj_pvalue = mixed_lm_multitest[-2]"
   ]
  },
  {
   "cell_type": "code",
   "execution_count": 47,
   "metadata": {},
   "outputs": [
    {
     "name": "stderr",
     "output_type": "stream",
     "text": [
      "C:\\Users\\micha\\Anaconda3\\lib\\site-packages\\statsmodels\\regression\\mixed_linear_model.py:2045: ConvergenceWarning: The MLE may be on the boundary of the parameter space.\n",
      "  warnings.warn(msg, ConvergenceWarning)\n",
      "C:\\Users\\micha\\Anaconda3\\lib\\site-packages\\statsmodels\\regression\\mixed_linear_model.py:2045: ConvergenceWarning: The MLE may be on the boundary of the parameter space.\n",
      "  warnings.warn(msg, ConvergenceWarning)\n",
      "C:\\Users\\micha\\Anaconda3\\lib\\site-packages\\statsmodels\\regression\\mixed_linear_model.py:2045: ConvergenceWarning: The MLE may be on the boundary of the parameter space.\n",
      "  warnings.warn(msg, ConvergenceWarning)\n",
      "C:\\Users\\micha\\Anaconda3\\lib\\site-packages\\statsmodels\\regression\\mixed_linear_model.py:2045: ConvergenceWarning: The MLE may be on the boundary of the parameter space.\n",
      "  warnings.warn(msg, ConvergenceWarning)\n",
      "C:\\Users\\micha\\Anaconda3\\lib\\site-packages\\statsmodels\\regression\\mixed_linear_model.py:2045: ConvergenceWarning: The MLE may be on the boundary of the parameter space.\n",
      "  warnings.warn(msg, ConvergenceWarning)\n",
      "C:\\Users\\micha\\Anaconda3\\lib\\site-packages\\statsmodels\\regression\\mixed_linear_model.py:2045: ConvergenceWarning: The MLE may be on the boundary of the parameter space.\n",
      "  warnings.warn(msg, ConvergenceWarning)\n"
     ]
    }
   ],
   "source": [
    "# Create dataframe to store measurement, associated p-value, and any significantly different time points (Holm-Sidak adjusted)\n",
    "# make df, then for every iteration append df column rows for measurement, anova p-value, and any timepoints that are sig (may do separate)\n",
    "\n",
    "measurement = list()\n",
    "measurement_p_val = list()\n",
    "\n",
    "for i in df.columns[7:-3]:\n",
    "    mixed_lm = smf.mixedlm(f\"{str(i)} ~ time_num + Genotype\", df, groups=df[\"animal\"])\n",
    "    mixed_lm_fit = mixed_lm.fit()\n",
    "    #print(mixed_lm_fit.summary())\n",
    "    \n",
    "    # Make Series for measurement and associated \n",
    "    mixed_lm_multitest = statsmodels.stats.multitest.multipletests(mixed_lm_fit.pvalues)\n",
    "    measurement.append(i)\n",
    "    measurement_p_val.append(mixed_lm_multitest[1][1])\n",
    "    #print('', mixed_lm_multitest)\n",
    "    \n",
    "# Make dataframe\n",
    "stats_df = pd.DataFrame()\n",
    "stats_df['Measurement'] = measurement\n",
    "stats_df['P_Value'] = measurement_p_val"
   ]
  },
  {
   "cell_type": "code",
   "execution_count": 49,
   "metadata": {},
   "outputs": [
    {
     "data": {
      "text/html": [
       "<div>\n",
       "<style scoped>\n",
       "    .dataframe tbody tr th:only-of-type {\n",
       "        vertical-align: middle;\n",
       "    }\n",
       "\n",
       "    .dataframe tbody tr th {\n",
       "        vertical-align: top;\n",
       "    }\n",
       "\n",
       "    .dataframe thead th {\n",
       "        text-align: right;\n",
       "    }\n",
       "</style>\n",
       "<table border=\"1\" class=\"dataframe\">\n",
       "  <thead>\n",
       "    <tr style=\"text-align: right;\">\n",
       "      <th></th>\n",
       "      <th>Measurement</th>\n",
       "      <th>P_Value</th>\n",
       "    </tr>\n",
       "  </thead>\n",
       "  <tbody>\n",
       "    <tr>\n",
       "      <th>0</th>\n",
       "      <td>Temp</td>\n",
       "      <td>0.971138</td>\n",
       "    </tr>\n",
       "    <tr>\n",
       "      <th>1</th>\n",
       "      <td>O2</td>\n",
       "      <td>0.199229</td>\n",
       "    </tr>\n",
       "    <tr>\n",
       "      <th>2</th>\n",
       "      <td>CO2</td>\n",
       "      <td>0.361083</td>\n",
       "    </tr>\n",
       "    <tr>\n",
       "      <th>3</th>\n",
       "      <td>dO2</td>\n",
       "      <td>0.300132</td>\n",
       "    </tr>\n",
       "    <tr>\n",
       "      <th>4</th>\n",
       "      <td>dCO2</td>\n",
       "      <td>0.381675</td>\n",
       "    </tr>\n",
       "  </tbody>\n",
       "</table>\n",
       "</div>"
      ],
      "text/plain": [
       "  Measurement   P_Value\n",
       "0        Temp  0.971138\n",
       "1          O2  0.199229\n",
       "2         CO2  0.361083\n",
       "3         dO2  0.300132\n",
       "4        dCO2  0.381675"
      ]
     },
     "execution_count": 49,
     "metadata": {},
     "output_type": "execute_result"
    }
   ],
   "source": [
    "stats_df.head()"
   ]
  },
  {
   "cell_type": "code",
   "execution_count": 25,
   "metadata": {},
   "outputs": [
    {
     "data": {
      "text/plain": [
       "0.012741455098566168"
      ]
     },
     "execution_count": 25,
     "metadata": {},
     "output_type": "execute_result"
    }
   ],
   "source": [
    "# Holm-Sidak adjusted P-value\n",
    "hs_adj_pvalue = mixed_lm_multitest[-2]\n",
    "hs_adj_pvalue"
   ]
  },
  {
   "cell_type": "code",
   "execution_count": 51,
   "metadata": {},
   "outputs": [
    {
     "data": {
      "text/plain": [
       "0.6923209128871819"
      ]
     },
     "execution_count": 51,
     "metadata": {},
     "output_type": "execute_result"
    }
   ],
   "source": [
    "stats.ttest_ind(cre[cre['time_num'] == 1]['RER'], wt[wt['time_num'] == 1]['RER'])[1]"
   ]
  },
  {
   "cell_type": "code",
   "execution_count": 94,
   "metadata": {},
   "outputs": [],
   "source": [
    "cre = df[df['Genotype'] == 'cre']\n",
    "wt = df[df['Genotype'] == 'WT']\n",
    "\n",
    "d = dict()\n",
    "for i in df.columns[7:-3]:\n",
    "    l = []\n",
    "    for j in df['time_num'].unique():\n",
    "        if stats.ttest_ind(cre[cre['time_num'] == j][i], wt[wt['time_num'] == j][i])[1] <= hs_adj_pvalue:\n",
    "            l.append(j)\n",
    "            d[i] = l"
   ]
  },
  {
   "cell_type": "code",
   "execution_count": 95,
   "metadata": {},
   "outputs": [
    {
     "data": {
      "text/html": [
       "<div>\n",
       "<style scoped>\n",
       "    .dataframe tbody tr th:only-of-type {\n",
       "        vertical-align: middle;\n",
       "    }\n",
       "\n",
       "    .dataframe tbody tr th {\n",
       "        vertical-align: top;\n",
       "    }\n",
       "\n",
       "    .dataframe thead th {\n",
       "        text-align: right;\n",
       "    }\n",
       "</style>\n",
       "<table border=\"1\" class=\"dataframe\">\n",
       "  <thead>\n",
       "    <tr style=\"text-align: right;\">\n",
       "      <th></th>\n",
       "      <th>Measurement</th>\n",
       "      <th>P_Value</th>\n",
       "      <th>Sig_Time_Points</th>\n",
       "    </tr>\n",
       "  </thead>\n",
       "  <tbody>\n",
       "    <tr>\n",
       "      <th>0</th>\n",
       "      <td>Temp</td>\n",
       "      <td>0.971138</td>\n",
       "      <td>NaN</td>\n",
       "    </tr>\n",
       "    <tr>\n",
       "      <th>1</th>\n",
       "      <td>O2</td>\n",
       "      <td>0.199229</td>\n",
       "      <td>[41, 62, 92, 212, 239, 284]</td>\n",
       "    </tr>\n",
       "    <tr>\n",
       "      <th>2</th>\n",
       "      <td>CO2</td>\n",
       "      <td>0.361083</td>\n",
       "      <td>[41, 62, 92, 209, 239, 284]</td>\n",
       "    </tr>\n",
       "    <tr>\n",
       "      <th>3</th>\n",
       "      <td>dO2</td>\n",
       "      <td>0.300132</td>\n",
       "      <td>[41, 62, 92, 212, 239, 284]</td>\n",
       "    </tr>\n",
       "    <tr>\n",
       "      <th>4</th>\n",
       "      <td>dCO2</td>\n",
       "      <td>0.381675</td>\n",
       "      <td>[41, 62, 92, 209, 239, 284]</td>\n",
       "    </tr>\n",
       "  </tbody>\n",
       "</table>\n",
       "</div>"
      ],
      "text/plain": [
       "  Measurement   P_Value              Sig_Time_Points\n",
       "0        Temp  0.971138                          NaN\n",
       "1          O2  0.199229  [41, 62, 92, 212, 239, 284]\n",
       "2         CO2  0.361083  [41, 62, 92, 209, 239, 284]\n",
       "3         dO2  0.300132  [41, 62, 92, 212, 239, 284]\n",
       "4        dCO2  0.381675  [41, 62, 92, 209, 239, 284]"
      ]
     },
     "execution_count": 95,
     "metadata": {},
     "output_type": "execute_result"
    }
   ],
   "source": [
    "stats_df['Sig_Time_Points'] = stats_df['Measurement'].map(d)\n",
    "stats_df.head()"
   ]
  },
  {
   "cell_type": "code",
   "execution_count": 97,
   "metadata": {},
   "outputs": [
    {
     "name": "stdin",
     "output_type": "stream",
     "text": [
      "Stats Output File Name (*.csv):  Chow_Cohort_Ghrelin_Stats.csv\n"
     ]
    }
   ],
   "source": [
    "stats_output = str(input('Stats Output File Name (*.csv): '))\n",
    "#stats_df.to_csv(stats_output, index=False)"
   ]
  }
 ],
 "metadata": {
  "kernelspec": {
   "display_name": "Python 3",
   "language": "python",
   "name": "python3"
  },
  "language_info": {
   "codemirror_mode": {
    "name": "ipython",
    "version": 3
   },
   "file_extension": ".py",
   "mimetype": "text/x-python",
   "name": "python",
   "nbconvert_exporter": "python",
   "pygments_lexer": "ipython3",
   "version": "3.6.7"
  }
 },
 "nbformat": 4,
 "nbformat_minor": 2
}
